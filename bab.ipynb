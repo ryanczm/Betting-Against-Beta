{
 "cells": [
  {
   "cell_type": "markdown",
   "metadata": {},
   "source": [
    "# Factor Construction"
   ]
  },
  {
   "cell_type": "code",
   "execution_count": 2,
   "metadata": {},
   "outputs": [
    {
     "ename": "ImportError",
     "evalue": "cannot import name 'create_market_bab_df' from 'factors' (c:\\Users\\Ryan\\OneDrive\\python\\Betting-Against-Beta\\factors.py)",
     "output_type": "error",
     "traceback": [
      "\u001b[1;31m---------------------------------------------------------------------------\u001b[0m",
      "\u001b[1;31mImportError\u001b[0m                               Traceback (most recent call last)",
      "Cell \u001b[1;32mIn[2], line 10\u001b[0m\n\u001b[0;32m      7\u001b[0m \u001b[38;5;28;01mimport\u001b[39;00m \u001b[38;5;21;01mscipy\u001b[39;00m\u001b[38;5;21;01m.\u001b[39;00m\u001b[38;5;21;01mstats\u001b[39;00m \u001b[38;5;28;01mas\u001b[39;00m \u001b[38;5;21;01mstats\u001b[39;00m\n\u001b[0;32m      9\u001b[0m \u001b[38;5;28;01mfrom\u001b[39;00m \u001b[38;5;21;01mfactors\u001b[39;00m \u001b[38;5;28;01mimport\u001b[39;00m calc_stock_beta, calc_fp_betas, shrink_fp_betas_cross_sectionally, process_ranked_beta_row, process_ew_beta_row, process_value_beta_row\n\u001b[1;32m---> 10\u001b[0m \u001b[38;5;28;01mfrom\u001b[39;00m \u001b[38;5;21;01mfactors\u001b[39;00m \u001b[38;5;28;01mimport\u001b[39;00m calc_equal_weights, calc_rank_weights, calc_value_weights, plot_cml, create_ff_bab_df, create_market_bab_df\n",
      "\u001b[1;31mImportError\u001b[0m: cannot import name 'create_market_bab_df' from 'factors' (c:\\Users\\Ryan\\OneDrive\\python\\Betting-Against-Beta\\factors.py)"
     ]
    }
   ],
   "source": [
    "import pandas as pd\n",
    "import numpy as np\n",
    "import statsmodels.api as sm\n",
    "import seaborn as sns\n",
    "import matplotlib.pyplot as plt\n",
    "from sklearn.linear_model import LinearRegression\n",
    "import scipy.stats as stats\n",
    "\n",
    "from factors import calc_stock_beta, calc_fp_betas, shrink_fp_betas_cross_sectionally, process_ranked_beta_row, process_ew_beta_row, process_value_beta_row\n",
    "from factors import calc_equal_weights, calc_rank_weights, calc_value_weights, plot_cml, create_ff_bab_df, create_mkt_bab_df\n"
   ]
  },
  {
   "cell_type": "code",
   "execution_count": null,
   "metadata": {},
   "outputs": [],
   "source": [
    "# returns\n",
    "stocks = pd.read_csv('data/stocks-2005.csv', index_col='Date', parse_dates=True,date_parser=lambda x: pd.to_datetime(x,format='%d/%m/%Y'))\n",
    "mkt = pd.read_csv('data/mkt-2005.csv', index_col='Date', parse_dates=True)\n",
    "ff = pd.read_csv('data/FF-2x3-5-Factor.csv', index_col='Date', parse_dates=True,  date_parser=lambda x: pd.to_datetime(x,format='%Y%m')).div(100)\n",
    "ff = ff[ff.index.year >= 2005]\n",
    "\n",
    "market_cap_df = pd.read_csv('data/market-cap-df.csv', index_col=0).sort_index()\n",
    "market_cap_df.index = pd.to_datetime(market_cap_df.index, format='%Y')\n",
    "stocks_m = stocks.resample('M').sum().sub(ff.RF.values,axis=0)\n",
    "mkt_m = mkt.resample('M').sum().sub(ff.RF.values,axis=0)\n",
    "colors = ['tab:blue', 'tab:orange', 'tab:green', 'tab:red', 'tab:purple', '#00d5ff']\n"
   ]
  },
  {
   "cell_type": "code",
   "execution_count": null,
   "metadata": {},
   "outputs": [],
   "source": [
    "# calculate FP betas\n",
    "betas = stocks.apply(calc_fp_betas, market_returns=mkt, axis=0).dropna()\n",
    "betas = betas.applymap(shrink_fp_betas_cross_sectionally)\n",
    "m_betas = betas.resample('M').last()"
   ]
  },
  {
   "cell_type": "code",
   "execution_count": null,
   "metadata": {},
   "outputs": [],
   "source": [
    "# calculate rank-weights\n",
    "rank_weights = calc_rank_weights(betas)\n",
    "# calculate even-weights\n",
    "equal_weights = calc_equal_weights(betas)\n",
    "# calculate value-weighs\n",
    "value_weights = calc_value_weights(betas, market_cap_df)"
   ]
  },
  {
   "cell_type": "code",
   "execution_count": null,
   "metadata": {},
   "outputs": [],
   "source": [
    "# split into LS portfolios: dollar-neutral\n",
    "lrw = rank_weights.applymap(lambda x:-x if x < 0 else 0) \n",
    "srw = rank_weights.applymap(lambda x:x if x > 0 else 0) \n",
    "lew = equal_weights.applymap(lambda x:-x if x < 0 else 0) \n",
    "sew = equal_weights.applymap(lambda x:x if x > 0 else 0) \n",
    "lvw = value_weights.applymap(lambda x:-x if x < 0 else 0) \n",
    "svw = value_weights.applymap(lambda x:x if x > 0 else 0) \n",
    "\n",
    "\n",
    "# calculate portfolio betas\n",
    "lr_betas = lrw.mul(m_betas).sum(axis=1)\n",
    "sr_betas = srw.mul(m_betas).sum(axis=1)\n",
    "le_betas = lew.mul(m_betas).sum(axis=1)\n",
    "se_betas = sew.mul(m_betas).sum(axis=1)\n",
    "lv_betas = lvw.mul(m_betas).sum(axis=1)\n",
    "sv_betas = svw.mul(m_betas).sum(axis=1)\n",
    "\n",
    "\n",
    "# calculate leveraged weights: beta neutral but no longer dollar-neutral\n",
    "llrw = lrw.div(lr_betas,axis=0)\n",
    "lsrw = srw.div(sr_betas,axis=0)\n",
    "llew = lew.div(le_betas,axis=0)\n",
    "lsew = sew.div(se_betas,axis=0)\n",
    "llvw = lew.div(le_betas,axis=0)\n",
    "lsvw = sew.div(se_betas,axis=0)\n",
    "\n",
    "# factor returns\n",
    "_lrr, _srr, _rr = calc_ls_returns(lrw, srw, stocks_m)\n",
    "_ler, _ser, _er = calc_ls_returns(lew, sew, stocks_m)\n",
    "_lvr, _svr, _vr = calc_ls_returns(lvw, svw, stocks_m)\n",
    "\n",
    "lrr, srr, rr = calc_ls_returns(llrw, lsrw, stocks_m)\n",
    "ler, ser, er = calc_ls_returns(llew, lsew, stocks_m)\n",
    "lvr, svr, vr = calc_ls_returns(llvw, lsvw, stocks_m)"
   ]
  },
  {
   "cell_type": "markdown",
   "metadata": {},
   "source": [
    "# Flat Capital Market Line\n",
    "\n",
    "* Entire time\n",
    "* Analysis "
   ]
  },
  {
   "cell_type": "code",
   "execution_count": null,
   "metadata": {},
   "outputs": [],
   "source": [
    "capm_betas = stocks_m.apply(calc_stock_beta, market_returns=mkt_m)\n",
    "mean_rets = stocks_m.mean().mul(100)\n",
    "capm_df = pd.DataFrame({'returns':mean_rets, 'betas':capm_betas})"
   ]
  },
  {
   "cell_type": "code",
   "execution_count": null,
   "metadata": {},
   "outputs": [],
   "source": [
    "plot_cml(capm_df)"
   ]
  },
  {
   "cell_type": "markdown",
   "metadata": {},
   "source": [
    "# Betas of LS Portfolio"
   ]
  },
  {
   "cell_type": "code",
   "execution_count": null,
   "metadata": {},
   "outputs": [],
   "source": [
    "ls_betas = pd.DataFrame({'long':lr_betas, 'short':sr_betas})\n",
    "ls_betas.plot(title='Betas over Time')\n",
    "plt.show()"
   ]
  },
  {
   "cell_type": "markdown",
   "metadata": {},
   "source": [
    "\n",
    "# BAB against Fama-French 5 Factor Model\n",
    "\n",
    "* Regression equation\n",
    "* Correlation matrix\n",
    "* Line plot\n",
    "* Analysis"
   ]
  },
  {
   "cell_type": "code",
   "execution_count": null,
   "metadata": {},
   "outputs": [],
   "source": [
    "bab = pd.read_csv('data/aqr-bab.csv', index_col='Date', parse_dates=True)\n",
    "rw_bab_ff = create_ff_bab_df(bab,ff)"
   ]
  },
  {
   "cell_type": "code",
   "execution_count": null,
   "metadata": {},
   "outputs": [],
   "source": [
    "Y = rw_bab_ff['BAB']\n",
    "X = rw_bab_ff[['Mkt-RF','SMB', 'HML', 'RMW', 'CMA']]\n",
    "X = sm.add_constant(X)\n",
    "model = sm.OLS(Y, X)\n",
    "results = model.fit()\n",
    "results.params"
   ]
  },
  {
   "cell_type": "code",
   "execution_count": null,
   "metadata": {},
   "outputs": [],
   "source": [
    "results.summary()"
   ]
  },
  {
   "cell_type": "code",
   "execution_count": null,
   "metadata": {},
   "outputs": [],
   "source": [
    "rw_bab_ff"
   ]
  },
  {
   "cell_type": "code",
   "execution_count": null,
   "metadata": {},
   "outputs": [],
   "source": [
    "rw_bab_ff.corr()"
   ]
  },
  {
   "cell_type": "code",
   "execution_count": null,
   "metadata": {},
   "outputs": [],
   "source": [
    "rw_bab_ff.cumsum().plot(title='BAB vs FF5', color=colors)\n",
    "# plt.ylabel('returns')"
   ]
  },
  {
   "cell_type": "code",
   "execution_count": null,
   "metadata": {},
   "outputs": [],
   "source": [
    "rw_bab_ff.mean().div(rw_bab_ff.std()).mul(np.sqrt(12)).plot(kind='bar', color=colors, title='Sharpe ratios: BAB vs FF5')"
   ]
  },
  {
   "cell_type": "code",
   "execution_count": null,
   "metadata": {},
   "outputs": [],
   "source": [
    "results.params[1:].plot(kind='bar',color=colors, title='BAB Tilts')"
   ]
  },
  {
   "cell_type": "markdown",
   "metadata": {},
   "source": [
    "# BAB against Market Factor\n",
    "\n",
    "* Regression Equation\n",
    "* Line plot\n",
    "* Analysis"
   ]
  },
  {
   "cell_type": "code",
   "execution_count": null,
   "metadata": {},
   "outputs": [],
   "source": [
    "\n",
    "bab_mkt = create_mkt_bab_df(bab, ff['Mkt-RF'])\n",
    "bab_mkt.corr()"
   ]
  },
  {
   "cell_type": "code",
   "execution_count": null,
   "metadata": {},
   "outputs": [],
   "source": [
    "bab_mkt.plot(kind='scatter', x='MKT',y='BAB')"
   ]
  },
  {
   "cell_type": "code",
   "execution_count": null,
   "metadata": {},
   "outputs": [],
   "source": [
    "bab_mkt.cumsum().plot(color=['#00d5ff','tab:blue'])"
   ]
  },
  {
   "cell_type": "code",
   "execution_count": null,
   "metadata": {},
   "outputs": [],
   "source": [
    "Y = bab_mkt['BAB']\n",
    "X = bab_mkt['MKT']\n",
    "X = sm.add_constant(X)\n",
    "model = sm.OLS(Y, X)\n",
    "results = model.fit()\n",
    "results.summary()"
   ]
  },
  {
   "cell_type": "code",
   "execution_count": null,
   "metadata": {},
   "outputs": [],
   "source": [
    "sns.regplot(x='MKT', y='BAB', data=bab_mkt, marker='x', line_kws={\"color\": \"red\"})\n",
    "\n",
    "# Add title and labels\n",
    "plt.title('BAB vs Mkt-RF')\n",
    "plt.xlabel('Market')\n",
    "plt.ylabel('BAB')"
   ]
  },
  {
   "cell_type": "markdown",
   "metadata": {},
   "source": [
    "# BAB: Value Weighted vs Ranked vs Equal Weighted (BABAB)\n",
    "\n",
    "* Lineplot\n",
    "* Analysis"
   ]
  },
  {
   "cell_type": "code",
   "execution_count": null,
   "metadata": {},
   "outputs": [],
   "source": [
    "rev_perf = pd.DataFrame({\"rank\":rr,\"equal\":er,\"value\":vr})\n",
    "rev_perf.cumsum().plot(title='Custom BAB')"
   ]
  },
  {
   "cell_type": "markdown",
   "metadata": {},
   "source": [
    "# BAB Overweighting Small Cap Stocks (BABAB)\n",
    "\n",
    "* Turnover by size decile barchart\n",
    "    * For each time period row, have a dataframe of two columns: decile bucket and turnover\n",
    "    * Groupby decile and sum\n",
    "    * Do this for all rows \n",
    "    * Plot barchart\n",
    "* Correlation to size factor scatterplot\n",
    "* Lineplot with transaction costs\n",
    "    * Figure out a way to proxy measure transaction costs as a function of market cap"
   ]
  },
  {
   "cell_type": "code",
   "execution_count": null,
   "metadata": {},
   "outputs": [],
   "source": [
    "mkt_cap_df = market_cap_df.resample('Y').last()[(market_cap_df.index.year <= 2023)&(market_cap_df.index.year >= 2010)]\n",
    "\n",
    "def calculate_decile_ranks(column):\n",
    "    return pd.qcut(column, q=10, labels=False) + 1\n",
    "\n",
    "# Apply the function to each column (axis=0) and store the result\n",
    "mkt_cap_df = mkt_cap_df.apply(calculate_decile_ranks, axis=1)\n",
    "\n",
    "l_turnover = llrw.diff().dropna().abs()\n",
    "l_turnover = l_turnover.resample('Y').sum()\n",
    "s_turnover = lsrw.diff().dropna().abs()\n",
    "s_turnover = s_turnover.resample('Y').sum()"
   ]
  },
  {
   "cell_type": "code",
   "execution_count": null,
   "metadata": {},
   "outputs": [],
   "source": [
    "def calc_turnover(mkt_cap_df, turnover_df):\n",
    "\n",
    "    dfs = []\n",
    "    for idx, row in turnover_df.iterrows():\n",
    "        cap_row = mkt_cap_df.loc[idx]\n",
    "        df = pd.DataFrame({'cap':cap_row,'turnover':row})\n",
    "        df = pd.DataFrame(df.groupby(cap_row).turnover.sum())\n",
    "        dfs.append(df)\n",
    "\n",
    "    dfs = pd.concat(dfs)\n",
    "    dfs.groupby(dfs.index).sum()\n",
    "    return dfs.groupby(dfs.index).sum()"
   ]
  },
  {
   "cell_type": "code",
   "execution_count": null,
   "metadata": {},
   "outputs": [],
   "source": [
    "l_turnovers = calc_turnover(mkt_cap_df, l_turnover)\n",
    "s_turnovers = calc_turnover(mkt_cap_df, s_turnover)"
   ]
  },
  {
   "cell_type": "code",
   "execution_count": null,
   "metadata": {},
   "outputs": [],
   "source": [
    "turnovers = pd.DataFrame({'long_turnover':l_turnovers.values.flatten(),'short_turnover':s_turnovers.values.flatten()}, index=l_turnovers.index)"
   ]
  },
  {
   "cell_type": "code",
   "execution_count": null,
   "metadata": {},
   "outputs": [],
   "source": [
    "turnovers.plot(kind='bar', title='Turnover by Market Cap Decile')"
   ]
  },
  {
   "cell_type": "code",
   "execution_count": null,
   "metadata": {},
   "outputs": [],
   "source": [
    "market_cap_df.iloc[-2].T.div(1000).describe(percentiles=np.arange(0,1,0.1))[4:-1].plot(kind='bar', color='tab:purple', title='Market Cap Decile Breakpoints 2023: BN $USD')"
   ]
  },
  {
   "cell_type": "markdown",
   "metadata": {},
   "source": [
    "# BAB Seasonality\n",
    "\n",
    "* Sharpe by month\n",
    "* Drawdown by month"
   ]
  },
  {
   "cell_type": "code",
   "execution_count": null,
   "metadata": {},
   "outputs": [],
   "source": [
    "bab.groupby(bab.index.month).apply(lambda x: x.mean()/x.std()).plot(kind='bar', color='#00d5ff', title='BAB Monthly Sharpe')\n",
    "plt.xlabel('M')\n",
    "\n",
    "ff.iloc[:,1:-1].groupby(ff.index.month).apply(lambda x: x.mean()/x.std()).plot(kind='bar', title='FF5 monthly Sharpe')\n",
    "plt.xlabel('M')"
   ]
  },
  {
   "cell_type": "markdown",
   "metadata": {},
   "source": [
    "# BAB Performance and Funding Liquidity Risk (TED spread)\n",
    "\n",
    "* Lineplot\n",
    "* Scatterplot\n",
    "* Regression"
   ]
  },
  {
   "cell_type": "code",
   "execution_count": null,
   "metadata": {},
   "outputs": [],
   "source": [
    "ted = pd.read_csv('data/ted-spread.csv',index_col='date', parse_dates=True, date_parser=lambda x: pd.to_datetime(x,format='%d/%m/%Y'))\n",
    "ted = ted.resample('M').last()\n",
    "bab = bab.loc[ted.index[ted.index.isin(bab.index)]]"
   ]
  },
  {
   "cell_type": "code",
   "execution_count": null,
   "metadata": {},
   "outputs": [],
   "source": [
    "ted_bab = pd.DataFrame({'ted':ted.values.flatten(),'bab':bab.values.flatten()},index=bab.index)\n",
    "\n",
    "ted_bab['ted'] = ted_bab.ted.shift(-1).dropna()\n",
    "ted_bab['log_ted']= np.log2(ted_bab.ted)\n",
    "ted_bab = ted_bab.dropna()"
   ]
  },
  {
   "cell_type": "code",
   "execution_count": null,
   "metadata": {},
   "outputs": [],
   "source": [
    "sns.regplot(x='ted', y='bab', data=ted_bab)\n",
    "\n",
    "# Add title and labels\n",
    "plt.title('BAB vs TED')\n",
    "plt.xlabel('TED')\n",
    "# plt.ylabel('BAB')"
   ]
  },
  {
   "cell_type": "code",
   "execution_count": null,
   "metadata": {},
   "outputs": [],
   "source": [
    "sns.regplot(x='log_ted', y='bab', data=ted_bab)\n",
    "\n",
    "# Add title and labels\n",
    "plt.title('BAB vs Log(TED)')\n",
    "plt.xlabel('TED')\n",
    "# plt.ylabel('BAB')"
   ]
  },
  {
   "cell_type": "code",
   "execution_count": null,
   "metadata": {},
   "outputs": [],
   "source": [
    "Y = ted_bab['bab']\n",
    "X = ted_bab['ted']\n",
    "X = sm.add_constant(X)\n",
    "model = sm.OLS(Y, X)\n",
    "results = model.fit()\n",
    "results.summary()"
   ]
  },
  {
   "cell_type": "code",
   "execution_count": null,
   "metadata": {},
   "outputs": [],
   "source": [
    "ted_bab.corr()"
   ]
  },
  {
   "cell_type": "markdown",
   "metadata": {},
   "source": [
    "# Post Cover"
   ]
  },
  {
   "cell_type": "code",
   "execution_count": null,
   "metadata": {},
   "outputs": [],
   "source": [
    "\n",
    "\n",
    "def plot_cml(df):\n",
    "    # Scatterplot with regression line\n",
    "    df.plot(kind='scatter',x='betas', y='returns', xlim=[0,3], ylim=[-0.5,2.5], marker='x')\n",
    "    # sns.regplot(x='betas', y='returns', data=df, scatter_kws={'s': 100})\n",
    "\n",
    "    # Fit a linear regression model\n",
    "    X = df['betas'].values.reshape(-1, 1)\n",
    "    y = df['returns'].values\n",
    "    model = LinearRegression().fit(X, y)\n",
    "    beta_coef = model.coef_[0]\n",
    "    beta_std_error = stats.sem(y - model.predict(X))\n",
    "    t_statistic = beta_coef / beta_std_error\n",
    "    r_squared = model.score(X, y)\n",
    "\n",
    "    # Plot the observed CML line\n",
    "    plt.plot([0, 3], [model.intercept_, model.intercept_+  3*model.coef_[0]], label='Observed CML', color='red')\n",
    "\n",
    "    # Plot the CAPM CML line (slope 1)\n",
    "    plt.plot([0, 3], [0.03, 2], label='CAPM CML', color='magenta')\n",
    "\n",
    "    # Display the regression equation on the plot\n",
    "    plt.annotate(f'E[Ri]-Rf = {model.intercept_:.2f} + {model.coef_[0]:.2f} * (Rm-Rf)\\n t-stat: {t_statistic:.2f}\\n R2: {r_squared:.2f}', fontsize=10, xy=(0.02, 0.87), xycoords='axes fraction', bbox=dict(facecolor='lightgrey', edgecolor='grey', boxstyle='round'),\n",
    "                 color='black')\n",
    "\n",
    "    # Set labels and legend\n",
    "    plt.xlabel('Betas')\n",
    "    plt.ylabel('Mean excess return (%)')\n",
    "    plt.legend()\n",
    "    plt.title('Observed CML vs Theoretical CML')\n",
    "\n",
    "    # Show the plot\n",
    "    plt.show()\n",
    "\n",
    "\n",
    "rw_bab_ff.cumsum().plot(title='BAB vs FF5', color=colors)\n",
    "plot_cml(capm_df)\n"
   ]
  }
 ],
 "metadata": {
  "kernelspec": {
   "display_name": "avm",
   "language": "python",
   "name": "python3"
  },
  "language_info": {
   "codemirror_mode": {
    "name": "ipython",
    "version": 3
   },
   "file_extension": ".py",
   "mimetype": "text/x-python",
   "name": "python",
   "nbconvert_exporter": "python",
   "pygments_lexer": "ipython3",
   "version": "3.8.16"
  }
 },
 "nbformat": 4,
 "nbformat_minor": 2
}
